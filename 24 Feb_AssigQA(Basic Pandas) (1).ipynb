{
 "cells": [
  {
   "cell_type": "markdown",
   "id": "44cfdcb5-c7c1-4562-9e9b-2f42eea4bb63",
   "metadata": {},
   "source": [
    "Q1. List any five functions of the pandas library with execution."
   ]
  },
  {
   "cell_type": "code",
   "execution_count": 15,
   "id": "870ef8c1-e5fa-4a1b-9b9b-1ce984aeb59a",
   "metadata": {},
   "outputs": [],
   "source": [
    "import pandas as pd"
   ]
  },
  {
   "cell_type": "code",
   "execution_count": 16,
   "id": "a76d7451-17dc-47fd-9fdb-671c01160eee",
   "metadata": {},
   "outputs": [
    {
     "name": "stdout",
     "output_type": "stream",
     "text": [
      "Requirement already satisfied: pandas in /opt/conda/lib/python3.10/site-packages (1.5.2)\n",
      "Requirement already satisfied: python-dateutil>=2.8.1 in /opt/conda/lib/python3.10/site-packages (from pandas) (2.8.2)\n",
      "Requirement already satisfied: pytz>=2020.1 in /opt/conda/lib/python3.10/site-packages (from pandas) (2022.6)\n",
      "Requirement already satisfied: numpy>=1.21.0 in /opt/conda/lib/python3.10/site-packages (from pandas) (1.23.5)\n",
      "Requirement already satisfied: six>=1.5 in /opt/conda/lib/python3.10/site-packages (from python-dateutil>=2.8.1->pandas) (1.16.0)\n",
      "Note: you may need to restart the kernel to use updated packages.\n"
     ]
    }
   ],
   "source": [
    "pip install pandas"
   ]
  },
  {
   "cell_type": "code",
   "execution_count": 17,
   "id": "c7aee8f1-577f-4046-a9d6-95dadc27ed40",
   "metadata": {},
   "outputs": [],
   "source": [
    "df=pd.read_csv(\"services.csv\")"
   ]
  },
  {
   "cell_type": "code",
   "execution_count": 18,
   "id": "51d94f9a-be9d-43e0-bdbb-f1b5fdf451f9",
   "metadata": {},
   "outputs": [
    {
     "data": {
      "text/html": [
       "<div>\n",
       "<style scoped>\n",
       "    .dataframe tbody tr th:only-of-type {\n",
       "        vertical-align: middle;\n",
       "    }\n",
       "\n",
       "    .dataframe tbody tr th {\n",
       "        vertical-align: top;\n",
       "    }\n",
       "\n",
       "    .dataframe thead th {\n",
       "        text-align: right;\n",
       "    }\n",
       "</style>\n",
       "<table border=\"1\" class=\"dataframe\">\n",
       "  <thead>\n",
       "    <tr style=\"text-align: right;\">\n",
       "      <th></th>\n",
       "      <th>id</th>\n",
       "      <th>location_id</th>\n",
       "      <th>program_id</th>\n",
       "      <th>accepted_payments</th>\n",
       "      <th>alternate_name</th>\n",
       "      <th>application_process</th>\n",
       "      <th>audience</th>\n",
       "      <th>description</th>\n",
       "      <th>eligibility</th>\n",
       "      <th>email</th>\n",
       "      <th>...</th>\n",
       "      <th>interpretation_services</th>\n",
       "      <th>keywords</th>\n",
       "      <th>languages</th>\n",
       "      <th>name</th>\n",
       "      <th>required_documents</th>\n",
       "      <th>service_areas</th>\n",
       "      <th>status</th>\n",
       "      <th>wait_time</th>\n",
       "      <th>website</th>\n",
       "      <th>taxonomy_ids</th>\n",
       "    </tr>\n",
       "  </thead>\n",
       "  <tbody>\n",
       "    <tr>\n",
       "      <th>0</th>\n",
       "      <td>1</td>\n",
       "      <td>1</td>\n",
       "      <td>NaN</td>\n",
       "      <td>NaN</td>\n",
       "      <td>NaN</td>\n",
       "      <td>Walk in or apply by phone.</td>\n",
       "      <td>Older adults age 55 or over, ethnic minorities...</td>\n",
       "      <td>A walk-in center for older adults that provide...</td>\n",
       "      <td>Age 55 or over for most programs, age 60 or ov...</td>\n",
       "      <td>NaN</td>\n",
       "      <td>...</td>\n",
       "      <td>NaN</td>\n",
       "      <td>ADULT PROTECTION AND CARE SERVICES, Meal Sites...</td>\n",
       "      <td>NaN</td>\n",
       "      <td>Fair Oaks Adult Activity Center</td>\n",
       "      <td>NaN</td>\n",
       "      <td>Colma</td>\n",
       "      <td>active</td>\n",
       "      <td>No wait.</td>\n",
       "      <td>NaN</td>\n",
       "      <td>NaN</td>\n",
       "    </tr>\n",
       "    <tr>\n",
       "      <th>1</th>\n",
       "      <td>2</td>\n",
       "      <td>2</td>\n",
       "      <td>NaN</td>\n",
       "      <td>NaN</td>\n",
       "      <td>NaN</td>\n",
       "      <td>Apply by phone for an appointment.</td>\n",
       "      <td>Residents of San Mateo County age 55 or over</td>\n",
       "      <td>Provides training and job placement to eligibl...</td>\n",
       "      <td>Age 55 or over, county resident and willing an...</td>\n",
       "      <td>NaN</td>\n",
       "      <td>...</td>\n",
       "      <td>NaN</td>\n",
       "      <td>EMPLOYMENT/TRAINING SERVICES, Job Development,...</td>\n",
       "      <td>NaN</td>\n",
       "      <td>Second Career Employment Program</td>\n",
       "      <td>NaN</td>\n",
       "      <td>San Mateo County</td>\n",
       "      <td>active</td>\n",
       "      <td>Varies.</td>\n",
       "      <td>NaN</td>\n",
       "      <td>NaN</td>\n",
       "    </tr>\n",
       "    <tr>\n",
       "      <th>2</th>\n",
       "      <td>3</td>\n",
       "      <td>3</td>\n",
       "      <td>NaN</td>\n",
       "      <td>NaN</td>\n",
       "      <td>NaN</td>\n",
       "      <td>Phone for information (403-4300 Ext. 4322).</td>\n",
       "      <td>Older adults age 55 or over who can benefit fr...</td>\n",
       "      <td>Offers supportive counseling services to San M...</td>\n",
       "      <td>Resident of San Mateo County age 55 or over</td>\n",
       "      <td>NaN</td>\n",
       "      <td>...</td>\n",
       "      <td>NaN</td>\n",
       "      <td>Geriatric Counseling, Older Adults, Gay, Lesbi...</td>\n",
       "      <td>NaN</td>\n",
       "      <td>Senior Peer Counseling</td>\n",
       "      <td>NaN</td>\n",
       "      <td>San Mateo County</td>\n",
       "      <td>active</td>\n",
       "      <td>Varies.</td>\n",
       "      <td>NaN</td>\n",
       "      <td>NaN</td>\n",
       "    </tr>\n",
       "    <tr>\n",
       "      <th>3</th>\n",
       "      <td>4</td>\n",
       "      <td>4</td>\n",
       "      <td>NaN</td>\n",
       "      <td>NaN</td>\n",
       "      <td>NaN</td>\n",
       "      <td>Apply by phone.</td>\n",
       "      <td>Parents, children, families with problems of c...</td>\n",
       "      <td>Provides supervised visitation services and a ...</td>\n",
       "      <td>None</td>\n",
       "      <td>NaN</td>\n",
       "      <td>...</td>\n",
       "      <td>NaN</td>\n",
       "      <td>INDIVIDUAL AND FAMILY DEVELOPMENT SERVICES, Gr...</td>\n",
       "      <td>NaN</td>\n",
       "      <td>Family Visitation Center</td>\n",
       "      <td>NaN</td>\n",
       "      <td>San Mateo County</td>\n",
       "      <td>active</td>\n",
       "      <td>No wait.</td>\n",
       "      <td>NaN</td>\n",
       "      <td>NaN</td>\n",
       "    </tr>\n",
       "    <tr>\n",
       "      <th>4</th>\n",
       "      <td>5</td>\n",
       "      <td>5</td>\n",
       "      <td>NaN</td>\n",
       "      <td>NaN</td>\n",
       "      <td>NaN</td>\n",
       "      <td>Phone for information.</td>\n",
       "      <td>Low-income working families with children tran...</td>\n",
       "      <td>Provides fixed 8% short term loans to eligible...</td>\n",
       "      <td>Eligibility: Low-income family with legal cust...</td>\n",
       "      <td>NaN</td>\n",
       "      <td>...</td>\n",
       "      <td>NaN</td>\n",
       "      <td>COMMUNITY SERVICES, Speakers, Automobile Loans</td>\n",
       "      <td>NaN</td>\n",
       "      <td>Economic Self-Sufficiency Program</td>\n",
       "      <td>NaN</td>\n",
       "      <td>San Mateo County</td>\n",
       "      <td>active</td>\n",
       "      <td>NaN</td>\n",
       "      <td>NaN</td>\n",
       "      <td>NaN</td>\n",
       "    </tr>\n",
       "  </tbody>\n",
       "</table>\n",
       "<p>5 rows × 22 columns</p>\n",
       "</div>"
      ],
      "text/plain": [
       "   id  location_id  program_id accepted_payments alternate_name  \\\n",
       "0   1            1         NaN               NaN            NaN   \n",
       "1   2            2         NaN               NaN            NaN   \n",
       "2   3            3         NaN               NaN            NaN   \n",
       "3   4            4         NaN               NaN            NaN   \n",
       "4   5            5         NaN               NaN            NaN   \n",
       "\n",
       "                           application_process  \\\n",
       "0                   Walk in or apply by phone.   \n",
       "1           Apply by phone for an appointment.   \n",
       "2  Phone for information (403-4300 Ext. 4322).   \n",
       "3                              Apply by phone.   \n",
       "4                       Phone for information.   \n",
       "\n",
       "                                            audience  \\\n",
       "0  Older adults age 55 or over, ethnic minorities...   \n",
       "1       Residents of San Mateo County age 55 or over   \n",
       "2  Older adults age 55 or over who can benefit fr...   \n",
       "3  Parents, children, families with problems of c...   \n",
       "4  Low-income working families with children tran...   \n",
       "\n",
       "                                         description  \\\n",
       "0  A walk-in center for older adults that provide...   \n",
       "1  Provides training and job placement to eligibl...   \n",
       "2  Offers supportive counseling services to San M...   \n",
       "3  Provides supervised visitation services and a ...   \n",
       "4  Provides fixed 8% short term loans to eligible...   \n",
       "\n",
       "                                         eligibility email  ...  \\\n",
       "0  Age 55 or over for most programs, age 60 or ov...   NaN  ...   \n",
       "1  Age 55 or over, county resident and willing an...   NaN  ...   \n",
       "2        Resident of San Mateo County age 55 or over   NaN  ...   \n",
       "3                                               None   NaN  ...   \n",
       "4  Eligibility: Low-income family with legal cust...   NaN  ...   \n",
       "\n",
       "  interpretation_services                                           keywords  \\\n",
       "0                     NaN  ADULT PROTECTION AND CARE SERVICES, Meal Sites...   \n",
       "1                     NaN  EMPLOYMENT/TRAINING SERVICES, Job Development,...   \n",
       "2                     NaN  Geriatric Counseling, Older Adults, Gay, Lesbi...   \n",
       "3                     NaN  INDIVIDUAL AND FAMILY DEVELOPMENT SERVICES, Gr...   \n",
       "4                     NaN     COMMUNITY SERVICES, Speakers, Automobile Loans   \n",
       "\n",
       "  languages                               name required_documents  \\\n",
       "0       NaN    Fair Oaks Adult Activity Center                NaN   \n",
       "1       NaN   Second Career Employment Program                NaN   \n",
       "2       NaN             Senior Peer Counseling                NaN   \n",
       "3       NaN           Family Visitation Center                NaN   \n",
       "4       NaN  Economic Self-Sufficiency Program                NaN   \n",
       "\n",
       "      service_areas  status wait_time website taxonomy_ids  \n",
       "0             Colma  active  No wait.     NaN          NaN  \n",
       "1  San Mateo County  active   Varies.     NaN          NaN  \n",
       "2  San Mateo County  active   Varies.     NaN          NaN  \n",
       "3  San Mateo County  active  No wait.     NaN          NaN  \n",
       "4  San Mateo County  active       NaN     NaN          NaN  \n",
       "\n",
       "[5 rows x 22 columns]"
      ]
     },
     "execution_count": 18,
     "metadata": {},
     "output_type": "execute_result"
    }
   ],
   "source": [
    "df.head()"
   ]
  },
  {
   "cell_type": "markdown",
   "id": "19790464-93d7-473d-a10c-228fa2b11e36",
   "metadata": {},
   "source": [
    "(b) describe() - This function generates descriptive statistics of the DataFrame such as mean, standard deviation, min/max values, and quartiles."
   ]
  },
  {
   "cell_type": "code",
   "execution_count": 19,
   "id": "b6fedab7-0367-4b28-b84f-7570dfa02b58",
   "metadata": {},
   "outputs": [
    {
     "name": "stdout",
     "output_type": "stream",
     "text": [
      "             id  location_id  program_id\n",
      "count  23.00000    23.000000         0.0\n",
      "mean   12.00000    11.956522         NaN\n",
      "std     6.78233     6.711444         NaN\n",
      "min     1.00000     1.000000         NaN\n",
      "25%     6.50000     6.500000         NaN\n",
      "50%    12.00000    12.000000         NaN\n",
      "75%    17.50000    17.500000         NaN\n",
      "max    23.00000    22.000000         NaN\n"
     ]
    }
   ],
   "source": [
    "print(df.describe())"
   ]
  },
  {
   "cell_type": "markdown",
   "id": "6a24206d-7f26-4747-8e96-55c9bcd14110",
   "metadata": {},
   "source": [
    "(c)dropna() - This function is used to remove rows with missing values from the DataFrame."
   ]
  },
  {
   "cell_type": "code",
   "execution_count": 20,
   "id": "6850d16f-9f70-4c48-b0e5-fb88fada7cec",
   "metadata": {},
   "outputs": [],
   "source": [
    "df.dropna(inplace=True)"
   ]
  },
  {
   "cell_type": "code",
   "execution_count": 21,
   "id": "321eb79b-a21b-4dc7-84df-8ffac20a6bd7",
   "metadata": {},
   "outputs": [
    {
     "name": "stdout",
     "output_type": "stream",
     "text": [
      "Empty DataFrame\n",
      "Columns: [id, location_id, program_id, accepted_payments, alternate_name, application_process, audience, description, eligibility, email, fees, funding_sources, interpretation_services, keywords, languages, name, required_documents, service_areas, status, wait_time, website, taxonomy_ids]\n",
      "Index: []\n",
      "\n",
      "[0 rows x 22 columns]\n"
     ]
    }
   ],
   "source": [
    "print(df.head())"
   ]
  },
  {
   "cell_type": "markdown",
   "id": "08e30999-b656-4c84-b44c-8c785194ad0b",
   "metadata": {},
   "source": [
    "(d)groupby() - This function is used to group the DataFrame based on one or more columns and perform aggregation on each group."
   ]
  },
  {
   "cell_type": "markdown",
   "id": "df639374-8ec1-48b9-bbf6-8f7f98400754",
   "metadata": {},
   "source": [
    "(e)merge() - This function is used to merge two DataFrames based on a common column."
   ]
  },
  {
   "cell_type": "markdown",
   "id": "3f05d607-fc9f-407f-a89b-836fdc1a0c2f",
   "metadata": {},
   "source": [
    "Q2. Given a Pandas DataFrame df with columns 'A', 'B', and 'C', write a Python function to re-index the\n",
    "DataFrame with a new index that starts from 1 and increments by 2 for each row."
   ]
  },
  {
   "cell_type": "code",
   "execution_count": 29,
   "id": "35cbec18-7fbe-473a-860f-a7f9f874e7b7",
   "metadata": {},
   "outputs": [],
   "source": [
    "import pandas as pd\n",
    "\n",
    "def reindex_df(df):\n",
    "    new_index = pd.Index(range(1, 2*len(df)+1, 2))  # generate new index\n",
    "    df = df.set_index(new_index)  # set new index\n",
    "    return df\n"
   ]
  },
  {
   "cell_type": "code",
   "execution_count": 30,
   "id": "1d181743-7f10-4a0e-bc95-248e4899def1",
   "metadata": {},
   "outputs": [
    {
     "name": "stdout",
     "output_type": "stream",
     "text": [
      "Original DataFrame:\n",
      "    A    B     C\n",
      "0  10  100  1000\n",
      "1  20  200  2000\n",
      "2  30  300  3000\n",
      "3  40  400  4000\n",
      "Re-indexed DataFrame:\n",
      "    A    B     C\n",
      "1  10  100  1000\n",
      "3  20  200  2000\n",
      "5  30  300  3000\n",
      "7  40  400  4000\n"
     ]
    }
   ],
   "source": [
    "# create a sample DataFrame\n",
    "df = pd.DataFrame({'A': [10, 20, 30, 40], 'B': [100, 200, 300, 400], 'C': [1000, 2000, 3000, 4000]})\n",
    "\n",
    "print(\"Original DataFrame:\")\n",
    "print(df)\n",
    "\n",
    "df_reindexed = reindex_df(df)\n",
    "\n",
    "print(\"Re-indexed DataFrame:\")\n",
    "print(df_reindexed)"
   ]
  },
  {
   "cell_type": "markdown",
   "id": "f7ef477b-cfd2-4eb8-bca6-3b2e0631a0b1",
   "metadata": {},
   "source": [
    "Q3. You have a Pandas DataFrame df with a column named 'Values'. Write a Python function that\n",
    "iterates over the DataFrame and calculates the sum of the first three values in the 'Values' column. The\n",
    "function should print the sum to the console.\n",
    "For example, if the 'Values' column of df contains the values [10, 20, 30, 40, 50], your function should\n",
    "calculate and print the sum of the first three values, which is 60."
   ]
  },
  {
   "cell_type": "markdown",
   "id": "80a5f67b-7770-4a89-811b-5025e049e338",
   "metadata": {},
   "source": [
    "Sure! Here's a Python function that iterates over a given Pandas DataFrame and calculates the sum of the first three values in the 'Values' column:"
   ]
  },
  {
   "cell_type": "code",
   "execution_count": 31,
   "id": "03eb466a-8771-41f2-b19f-de2c60516edf",
   "metadata": {},
   "outputs": [],
   "source": [
    "import pandas as pd\n",
    "\n",
    "def sum_first_three_values(df):\n",
    "\n",
    "    first_three_values = df['Values'][:3]\n",
    "    \n",
    "    sum_first_three = first_three_values.sum()\n",
    "    \n",
    "    print(\"Sum of the first three values in the 'Values' column: \", sum_first_three)\n"
   ]
  },
  {
   "cell_type": "code",
   "execution_count": 32,
   "id": "c598ab9e-ab37-4726-9167-cfd4957a9a62",
   "metadata": {},
   "outputs": [
    {
     "name": "stdout",
     "output_type": "stream",
     "text": [
      "Sum of the first three values in the 'Values' column:  60\n"
     ]
    }
   ],
   "source": [
    "# create a sample DataFrame\n",
    "df = pd.DataFrame({'Values': [10, 20, 30, 40, 50]})\n",
    "\n",
    "# call the sum_first_three_values() function on the DataFrame\n",
    "sum_first_three_values(df)\n"
   ]
  },
  {
   "cell_type": "markdown",
   "id": "9ac14530-70ee-4831-8688-0aa50f21a7b9",
   "metadata": {},
   "source": [
    "Q4. Given a Pandas DataFrame df with a column 'Text', write a Python function to create a new column\n",
    "'Word_Count' that contains the number of words in each row of the 'Text' column."
   ]
  },
  {
   "cell_type": "markdown",
   "id": "3aca0791-3eb9-48a0-a1cc-c52e70452eeb",
   "metadata": {},
   "source": [
    "Answer:-Sure! Here's a Python function that creates a new column 'Word_Count' in a given Pandas DataFrame with a 'Text' column, which contains the number of words in each row of the 'Text' column:"
   ]
  },
  {
   "cell_type": "code",
   "execution_count": 33,
   "id": "a9a4fb72-4ced-4384-a729-1ae46bc58b8e",
   "metadata": {},
   "outputs": [],
   "source": [
    "import pandas as pd\n",
    "\n",
    "def add_word_count_column(df):\n",
    "    # split each row of the 'Text' column into words\n",
    "    words = df['Text'].str.split()\n",
    "    \n",
    "    # count the number of words in each row\n",
    "    word_count = words.apply(len)\n",
    "    \n",
    "    # add the 'Word_Count' column to the DataFrame\n",
    "    df['Word_Count'] = word_count\n",
    "    \n",
    "    # return the modified DataFrame\n",
    "    return df"
   ]
  },
  {
   "cell_type": "code",
   "execution_count": 34,
   "id": "e2256d05-76b6-41b4-8500-b6c6e57088e8",
   "metadata": {},
   "outputs": [
    {
     "name": "stdout",
     "output_type": "stream",
     "text": [
      "                               Text  Word_Count\n",
      "0         This is a sample sentence           5\n",
      "1  Another sentence with more words           5\n"
     ]
    }
   ],
   "source": [
    "# create a sample DataFrame\n",
    "df = pd.DataFrame({'Text': ['This is a sample sentence', 'Another sentence with more words']})\n",
    "\n",
    "# call the add_word_count_column() function on the DataFrame\n",
    "df_with_word_count = add_word_count_column(df)\n",
    "\n",
    "# print the modified DataFrame\n",
    "print(df_with_word_count)\n"
   ]
  },
  {
   "cell_type": "markdown",
   "id": "3649ec98-0eb3-47fb-a462-e0853bdb368c",
   "metadata": {},
   "source": [
    "Q5. How are DataFrame.size() and DataFrame.shape() different?"
   ]
  },
  {
   "cell_type": "markdown",
   "id": "3c619b6a-d65e-4fc7-86cb-4733d8702751",
   "metadata": {},
   "source": [
    "Both DataFrame.size() and DataFrame.shape() are methods in Pandas used to obtain information about the size or dimensions of a DataFrame, but they differ in what they return.\n",
    "\n",
    "DataFrame.size() returns the total number of elements in the DataFrame, which is equal to the product of the number of rows and the number of columns.\n",
    "\n",
    "On the other hand, DataFrame.shape() returns a tuple of two elements that represent the dimensions of the DataFrame. The first element is the number of rows, and the second element is the number of columns.\n",
    "\n",
    "For example, let's consider the following DataFrame:"
   ]
  },
  {
   "cell_type": "code",
   "execution_count": 36,
   "id": "8a9f6ae6-a89b-49d2-95cf-40c28b4749c7",
   "metadata": {},
   "outputs": [],
   "source": [
    "import pandas as pd\n",
    "\n",
    "data = {'name': ['John', 'Jane', 'Bob', 'Alice'],\n",
    "        'age': [25, 30, 40, 35],\n",
    "        'country': ['USA', 'Canada', 'Australia', 'UK']}\n",
    "\n",
    "df = pd.DataFrame(data)\n"
   ]
  },
  {
   "cell_type": "markdown",
   "id": "ded11faf-0208-4e58-9ba4-536159b12ffa",
   "metadata": {},
   "source": [
    "Q6. Which function of pandas do we use to read an excel file?"
   ]
  },
  {
   "cell_type": "markdown",
   "id": "f876e7bf-2526-4d71-8a48-dcc74d40bd38",
   "metadata": {},
   "source": [
    "Answer:-The function of Pandas that is commonly used to read an Excel file is read_excel().\n",
    "\n",
    "The read_excel() function can read data from an Excel file and return it as a Pandas DataFrame. It can read data from a single sheet or multiple sheets within an Excel file.\n",
    "\n",
    "Here is an example of how to use read_excel() to read data from an Excel file:"
   ]
  },
  {
   "cell_type": "code",
   "execution_count": 43,
   "id": "80120ec1-dde4-4e97-83da-a8858488beec",
   "metadata": {},
   "outputs": [
    {
     "name": "stdout",
     "output_type": "stream",
     "text": [
      "    Unnamed: 0  Unnamed: 1  Unnamed: 2  \\\n",
      "0          NaN         NaN         NaN   \n",
      "1          NaN         NaN         NaN   \n",
      "2          NaN         NaN         NaN   \n",
      "3          NaN         NaN         NaN   \n",
      "4          NaN         NaN         NaN   \n",
      "5          NaN         NaN         NaN   \n",
      "6          NaN         NaN         NaN   \n",
      "7          NaN         NaN         NaN   \n",
      "8          NaN         NaN         NaN   \n",
      "9          NaN         NaN         NaN   \n",
      "10         NaN         NaN         NaN   \n",
      "11         NaN         NaN         NaN   \n",
      "12         NaN         NaN         NaN   \n",
      "13         NaN         NaN         NaN   \n",
      "14         NaN         NaN         NaN   \n",
      "15         NaN         NaN         NaN   \n",
      "16         NaN         NaN         NaN   \n",
      "17         NaN         NaN         NaN   \n",
      "18         NaN         NaN         NaN   \n",
      "19         NaN         NaN         NaN   \n",
      "20         NaN         NaN         NaN   \n",
      "21         NaN         NaN         NaN   \n",
      "22         NaN         NaN         NaN   \n",
      "23         NaN         NaN         NaN   \n",
      "24         NaN         NaN         NaN   \n",
      "25         NaN         NaN         NaN   \n",
      "26         NaN         NaN         NaN   \n",
      "27         NaN         NaN         NaN   \n",
      "\n",
      "                                           Unnamed: 3  \\\n",
      "0                                                 NaN   \n",
      "1                                  Datetimes in LUSID   \n",
      "2                                                 NaN   \n",
      "3    This sheet allows you to format datetimes for...   \n",
      "4         If you have any questions please visit our:   \n",
      "5                                                 NaN   \n",
      "6                                                 NaN   \n",
      "7                                                 NaN   \n",
      "8                                                 NaN   \n",
      "9                                                 NaN   \n",
      "10                                                NaN   \n",
      "11                                                NaN   \n",
      "12                                                NaN   \n",
      "13                                                NaN   \n",
      "14                                                NaN   \n",
      "15                                                NaN   \n",
      "16                                                NaN   \n",
      "17                                                NaN   \n",
      "18                                                NaN   \n",
      "19                                                NaN   \n",
      "20                                                NaN   \n",
      "21                                                NaN   \n",
      "22                                                NaN   \n",
      "23                                                NaN   \n",
      "24                                                NaN   \n",
      "25                                                NaN   \n",
      "26                                                NaN   \n",
      "27                                                NaN   \n",
      "\n",
      "                                           Unnamed: 4  \\\n",
      "0                                                 NaN   \n",
      "1                                                 NaN   \n",
      "2                                                 NaN   \n",
      "3                                                 NaN   \n",
      "4                                                 NaN   \n",
      "5                           Getting Started tutorials   \n",
      "6                             Knowledge Base articles   \n",
      "7                                       or Contact us   \n",
      "8                                                 NaN   \n",
      "9                                                 NaN   \n",
      "10                                                NaN   \n",
      "11  LUSID accepts datetimes in any recognised Exce...   \n",
      "12                                                NaN   \n",
      "13                     Excel formats to show datetime   \n",
      "14                                                NaN   \n",
      "15                          Enter the date to convert   \n",
      "16                                                NaN   \n",
      "17                    This date has no time component   \n",
      "18                                                NaN   \n",
      "19                             Specify time component   \n",
      "20                                                NaN   \n",
      "21  Add to your date and display the complete date...   \n",
      "22                                                NaN   \n",
      "23   Although the date can still appears without time   \n",
      "24                                                NaN   \n",
      "25                       Add an hour to your datetime   \n",
      "26                                                NaN   \n",
      "27               Subtract a minute from your datetime   \n",
      "\n",
      "                    Unnamed: 5  Unnamed: 6  \\\n",
      "0                          NaN         NaN   \n",
      "1                          NaN         NaN   \n",
      "2                          NaN         NaN   \n",
      "3                          NaN         NaN   \n",
      "4                          NaN         NaN   \n",
      "5                          NaN         NaN   \n",
      "6                          NaN         NaN   \n",
      "7                          NaN         NaN   \n",
      "8                          NaN         NaN   \n",
      "9                          NaN         NaN   \n",
      "10                         NaN         NaN   \n",
      "11                         NaN         NaN   \n",
      "12                         NaN         NaN   \n",
      "13                         NaN         NaN   \n",
      "14                         NaN         NaN   \n",
      "15         2019-04-10 00:00:00         NaN   \n",
      "16                         NaN         NaN   \n",
      "17         2019-04-10 00:00:00         NaN   \n",
      "18                         NaN         NaN   \n",
      "19             13:30:45.550000         NaN   \n",
      "20                         NaN         NaN   \n",
      "21  2019-04-10 13:30:45.550000         NaN   \n",
      "22                         NaN         NaN   \n",
      "23  2019-04-10 13:30:45.550000         NaN   \n",
      "24                         NaN         NaN   \n",
      "25  2019-04-10 14:30:45.550000         NaN   \n",
      "26                         NaN         NaN   \n",
      "27  2019-04-10 14:29:45.550000         NaN   \n",
      "\n",
      "                                           Unnamed: 7  \\\n",
      "0                                                 NaN   \n",
      "1                                                 NaN   \n",
      "2                                                 NaN   \n",
      "3                                                 NaN   \n",
      "4                                                 NaN   \n",
      "5                                                 NaN   \n",
      "6                                                 NaN   \n",
      "7                                                 NaN   \n",
      "8                                                 NaN   \n",
      "9                                                 NaN   \n",
      "10                                                NaN   \n",
      "11  LUSID also accepts UTC, UTS offsets and cutlabels   \n",
      "12                                                NaN   \n",
      "13                                 Additional formats   \n",
      "14                                                NaN   \n",
      "15                            Standard UTC timestamp:   \n",
      "16                                                NaN   \n",
      "17                         Convert date into a string   \n",
      "18                                                NaN   \n",
      "19       UTC offset (not recognised as an excel date)   \n",
      "20                                                NaN   \n",
      "21                                           Cutlabel   \n",
      "22                                                NaN   \n",
      "23                                                NaN   \n",
      "24                                                NaN   \n",
      "25                                                NaN   \n",
      "26                                                NaN   \n",
      "27                                                NaN   \n",
      "\n",
      "                   Unnamed: 8  \\\n",
      "0                         NaN   \n",
      "1                         NaN   \n",
      "2                         NaN   \n",
      "3                         NaN   \n",
      "4                         NaN   \n",
      "5                         NaN   \n",
      "6                         NaN   \n",
      "7                         NaN   \n",
      "8                         NaN   \n",
      "9                         NaN   \n",
      "10                        NaN   \n",
      "11                        NaN   \n",
      "12                        NaN   \n",
      "13                        NaN   \n",
      "14                        NaN   \n",
      "15  \"YYYY-MM-DDTHH:MM:SS.00Z\"   \n",
      "16                        NaN   \n",
      "17   2019-04-10T 13:30:45.55Z   \n",
      "18                        NaN   \n",
      "19  2019-04-10T13:30:45+04:00   \n",
      "20                        NaN   \n",
      "21  2019-04-10NSingaporeClose   \n",
      "22                        NaN   \n",
      "23                        NaN   \n",
      "24                        NaN   \n",
      "25                        NaN   \n",
      "26                        NaN   \n",
      "27                        NaN   \n",
      "\n",
      "                                           Unnamed: 9  \n",
      "0                                                 NaN  \n",
      "1                                                 NaN  \n",
      "2                                                 NaN  \n",
      "3                                                 NaN  \n",
      "4                                                 NaN  \n",
      "5                                                 NaN  \n",
      "6                                                 NaN  \n",
      "7                                                 NaN  \n",
      "8                                                 NaN  \n",
      "9                                                 NaN  \n",
      "10                                                NaN  \n",
      "11                                                NaN  \n",
      "12                                                NaN  \n",
      "13                                                NaN  \n",
      "14                                                NaN  \n",
      "15  Where Z indicates Zulu time (UTC+0), and is eq...  \n",
      "16                                                NaN  \n",
      "17                                                NaN  \n",
      "18                                                NaN  \n",
      "19                                                NaN  \n",
      "20                                                NaN  \n",
      "21                                                NaN  \n",
      "22                                                NaN  \n",
      "23                                                NaN  \n",
      "24                                                NaN  \n",
      "25                                                NaN  \n",
      "26                                                NaN  \n",
      "27                                                NaN  \n"
     ]
    }
   ],
   "source": [
    "import pandas as pd\n",
    "df = pd.read_excel(\"LUSID Excel - Setting up your market data.xlsx\")\n",
    "print(df)"
   ]
  },
  {
   "cell_type": "markdown",
   "id": "c7ed7327-b32e-411f-a5e5-9f8209c31ef8",
   "metadata": {},
   "source": [
    "Q7. You have a Pandas DataFrame df that contains a column named 'Email' that contains email\n",
    "addresses in the format 'username@domain.com'. Write a Python function that creates a new column\n",
    "'Username' in df that contains only the username part of each email address.\n",
    "The username is the part of the email address that appears before the '@' symbol. For example, if the\n",
    "email address is 'john.doe@example.com', the 'Username' column should contain 'john.doe'. Your\n",
    "function should extract the username from each email address and store it in the new 'Username'\n",
    "column."
   ]
  },
  {
   "cell_type": "markdown",
   "id": "9e29e019-deaa-4ce3-a180-934ed548b9f1",
   "metadata": {},
   "source": [
    "Answer:-To extract the username from each email address in the 'Email' column of a Pandas DataFrame df and create a new column 'Username' that contains the usernames, you can use the str.split() method and indexing to extract the substring before the '@' symbol. Here's an example Python function:"
   ]
  },
  {
   "cell_type": "code",
   "execution_count": 45,
   "id": "81d59942-6789-4707-a121-6cf3761723ba",
   "metadata": {},
   "outputs": [],
   "source": [
    "def extract_username(df):\n",
    "    # Extract the username from the email addresses in the 'Email' column\n",
    "    usernames = df['Email'].str.split('@').str[0]\n",
    "    \n",
    "    # Add the 'Username' column to the DataFrame\n",
    "    df['Username'] = usernames\n",
    "    \n",
    "    # Return the modified DataFrame\n",
    "    return df\n"
   ]
  },
  {
   "cell_type": "markdown",
   "id": "77c385b1-ecd8-49b3-b120-3b8e703867e1",
   "metadata": {},
   "source": [
    "Q8. You have a Pandas DataFrame df with columns 'A', 'B', and 'C'. Write a Python function that selects\n",
    "all rows where the value in column 'A' is greater than 5 and the value in column 'B' is less than 10. The\n",
    "function should return a new DataFrame that contains only the selected rows.\n",
    "For example, if df contains the following values:\n",
    "A B C\n",
    "0 3 5 1\n",
    "1 8 2 7\n",
    "2 6 9 4\n",
    "3 2 3 5\n",
    "4 9 1 2"
   ]
  },
  {
   "cell_type": "markdown",
   "id": "9f57eb43-cb97-438f-837d-0055ace529eb",
   "metadata": {},
   "source": [
    "Answer:-To select all rows from a Pandas DataFrame df where the value in column 'A' is greater than 5 and the value in column 'B' is less than 10, you can use boolean indexing with the & operator to combine two conditions. Here's an example Python function:"
   ]
  },
  {
   "cell_type": "code",
   "execution_count": 46,
   "id": "08c66e96-f1f1-449e-a7b1-f7f43f5cc879",
   "metadata": {},
   "outputs": [],
   "source": [
    "def select_rows(df):\n",
    "    # Create a boolean mask to select rows where A > 5 and B < 10\n",
    "    mask = (df['A'] > 5) & (df['B'] < 10)\n",
    "    \n",
    "    # Use the boolean mask to select the rows\n",
    "    selected_rows = df[mask]\n",
    "    \n",
    "    # Return the new DataFrame containing only the selected rows\n",
    "    return selected_rows\n"
   ]
  },
  {
   "cell_type": "markdown",
   "id": "a02b4014-f831-45d8-b95f-87367d5fbb51",
   "metadata": {},
   "source": [
    "In this function, (df['A'] > 5) & (df['B'] < 10) creates a boolean mask that is True for all rows where the value in column 'A' is greater than 5 and the value in column 'B' is less than 10. The & operator combines the two conditions using logical AND."
   ]
  },
  {
   "cell_type": "code",
   "execution_count": null,
   "id": "d93e95c1-699f-486e-a3a4-da56496f3814",
   "metadata": {},
   "outputs": [],
   "source": []
  }
 ],
 "metadata": {
  "kernelspec": {
   "display_name": "Python 3 (ipykernel)",
   "language": "python",
   "name": "python3"
  },
  "language_info": {
   "codemirror_mode": {
    "name": "ipython",
    "version": 3
   },
   "file_extension": ".py",
   "mimetype": "text/x-python",
   "name": "python",
   "nbconvert_exporter": "python",
   "pygments_lexer": "ipython3",
   "version": "3.10.8"
  }
 },
 "nbformat": 4,
 "nbformat_minor": 5
}
