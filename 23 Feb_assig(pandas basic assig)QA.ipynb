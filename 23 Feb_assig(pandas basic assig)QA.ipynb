{
 "cells": [
  {
   "cell_type": "markdown",
   "id": "664b94b3-0df7-408a-be5d-494e751e1984",
   "metadata": {},
   "source": [
    "Q1. Create a Pandas Series that contains the following data: 4, 8, 15, 16, 23, and 42. Then, print the series."
   ]
  },
  {
   "cell_type": "code",
   "execution_count": 1,
   "id": "0dce7cd4-4715-4992-b5c5-4d1d7bbe1006",
   "metadata": {},
   "outputs": [],
   "source": [
    "import pandas as pd"
   ]
  },
  {
   "cell_type": "code",
   "execution_count": 2,
   "id": "19ad4baa-46fa-4e41-8fc9-e64a013b0930",
   "metadata": {},
   "outputs": [
    {
     "name": "stdout",
     "output_type": "stream",
     "text": [
      "0     4\n",
      "1     8\n",
      "2    15\n",
      "3    16\n",
      "4    23\n",
      "5    42\n",
      "dtype: int64\n"
     ]
    }
   ],
   "source": [
    "data = [4, 8, 15, 16, 23, 42]\n",
    "\n",
    "series = pd.Series(data)\n",
    "\n",
    "print(series)\n"
   ]
  },
  {
   "cell_type": "markdown",
   "id": "aa1816fd-b27b-4683-837c-3561621270b4",
   "metadata": {},
   "source": [
    "Q2. Create a variable of list type containing 10 elements in it, and apply pandas.Series function on the\n",
    "variable print it."
   ]
  },
  {
   "cell_type": "code",
   "execution_count": 4,
   "id": "c371acd4-04fc-4421-8008-9fc67b7d3c98",
   "metadata": {},
   "outputs": [
    {
     "name": "stdout",
     "output_type": "stream",
     "text": [
      "0     1\n",
      "1     2\n",
      "2     3\n",
      "3     4\n",
      "4     5\n",
      "5     6\n",
      "6     7\n",
      "7     8\n",
      "8     9\n",
      "9    10\n",
      "dtype: int64\n"
     ]
    }
   ],
   "source": [
    "\"\"\"example of how you can create a list with 10 elements and convert it to a Pandas Series:\"\"\"\n",
    "\n",
    "my_list = [1, 2, 3, 4, 5, 6, 7, 8, 9, 10]\n",
    "\n",
    "my_series = pd.Series(my_list)\n",
    "\n",
    "print(my_series)"
   ]
  },
  {
   "cell_type": "markdown",
   "id": "c7b8c83b-1fc4-4040-85e6-42ea6b9c75a0",
   "metadata": {},
   "source": [
    "Q3. Create a Pandas DataFrame that contains the following data:"
   ]
  },
  {
   "cell_type": "code",
   "execution_count": 5,
   "id": "648de0de-728a-417d-8826-0a94320d15f9",
   "metadata": {},
   "outputs": [
    {
     "name": "stdout",
     "output_type": "stream",
     "text": [
      "     Name  Age  Gender\n",
      "0   Alice   25  Female\n",
      "1     Bob   30    Male\n",
      "2  Claire   27  Female\n"
     ]
    }
   ],
   "source": [
    "data = {'Name': ['Alice', 'Bob', 'Claire'],\n",
    "        'Age': [25, 30, 27],\n",
    "        'Gender': ['Female', 'Male', 'Female']}\n",
    "\n",
    "df = pd.DataFrame(data)\n",
    "\n",
    "print(df)"
   ]
  },
  {
   "cell_type": "markdown",
   "id": "931476e3-16db-43b5-8aaa-b70443e95082",
   "metadata": {},
   "source": [
    "Q4. What is ‘DataFrame’ in pandas and how is it different from pandas.series? Explain with an example."
   ]
  },
  {
   "cell_type": "code",
   "execution_count": 6,
   "id": "0c80744f-da4a-4999-8e60-579f41808ec8",
   "metadata": {},
   "outputs": [
    {
     "data": {
      "text/plain": [
       "'Answer:-In Pandas, a DataFrame is a two-dimensional table of data with rows and columns. It is similar to a spreadsheet or a SQL table. A DataFrame can contain data of different types, including integers, floats, strings, and more. Each column in a DataFrame is a Series object, which is a one-dimensional array with a label for each element.'"
      ]
     },
     "execution_count": 6,
     "metadata": {},
     "output_type": "execute_result"
    }
   ],
   "source": [
    "\"\"\"Answer:-In Pandas, a DataFrame is a two-dimensional table of data with rows and columns. It is similar to a spreadsheet or a SQL table. A DataFrame can contain data of different types, including integers, floats, strings, and more. Each column in a DataFrame is a Series object, which is a one-dimensional array with a label for each element.\"\"\""
   ]
  },
  {
   "cell_type": "code",
   "execution_count": 7,
   "id": "fb7cea3f-0af2-4043-b4aa-77814d5f929f",
   "metadata": {},
   "outputs": [
    {
     "data": {
      "text/plain": [
       "'The key differences between a DataFrame and a Series in Pandas are:\\n\\nA DataFrame is a 2-dimensional object with rows and columns, while a Series is a 1-dimensional object with only rows.\\nA DataFrame can contain multiple columns, each of which can have a different data type, while a Series contains only one column with a single data type.'"
      ]
     },
     "execution_count": 7,
     "metadata": {},
     "output_type": "execute_result"
    }
   ],
   "source": [
    "\"\"\"The key differences between a DataFrame and a Series in Pandas are:\n",
    "\n",
    "A DataFrame is a 2-dimensional object with rows and columns, while a Series is a 1-dimensional object with only rows.\n",
    "A DataFrame can contain multiple columns, each of which can have a different data type, while a Series contains only one column with a single data type.\"\"\""
   ]
  },
  {
   "cell_type": "code",
   "execution_count": 8,
   "id": "0e4dcad5-3822-4941-a1a7-26e64da80287",
   "metadata": {},
   "outputs": [
    {
     "name": "stdout",
     "output_type": "stream",
     "text": [
      "my_series:\n",
      "0    1\n",
      "1    2\n",
      "2    3\n",
      "3    4\n",
      "4    5\n",
      "dtype: int64\n",
      "Type: <class 'pandas.core.series.Series'>\n",
      "\n",
      "my_df:\n",
      "   A  B\n",
      "0  1  a\n",
      "1  2  b\n",
      "2  3  c\n",
      "3  4  d\n",
      "4  5  e\n",
      "Type: <class 'pandas.core.frame.DataFrame'>\n"
     ]
    }
   ],
   "source": [
    "# create a Series object\n",
    "my_series = pd.Series([1, 2, 3, 4, 5])\n",
    "\n",
    "# create a DataFrame object\n",
    "my_df = pd.DataFrame({'A': [1, 2, 3, 4, 5], 'B': ['a', 'b', 'c', 'd', 'e']})\n",
    "\n",
    "print(\"my_series:\")\n",
    "print(my_series)\n",
    "print(\"Type:\", type(my_series))\n",
    "\n",
    "print(\"\\nmy_df:\")\n",
    "print(my_df)\n",
    "print(\"Type:\", type(my_df))"
   ]
  },
  {
   "cell_type": "markdown",
   "id": "cb107a0e-a0d9-438f-ba59-37a6f32adada",
   "metadata": {},
   "source": [
    "Q5. What are some common functions you can use to manipulate data in a Pandas DataFrame? Can\n",
    "you give an example of when you might use one of these functions?"
   ]
  },
  {
   "cell_type": "code",
   "execution_count": 10,
   "id": "085842ef-841d-46c1-ac15-291377733fc8",
   "metadata": {},
   "outputs": [
    {
     "data": {
      "text/plain": [
       "'Answer:-Pandas provides a wide range of functions to manipulate and transform data in a DataFrame. Here are some common functions that can be used:'"
      ]
     },
     "execution_count": 10,
     "metadata": {},
     "output_type": "execute_result"
    }
   ],
   "source": [
    "\"\"\"Answer:-Pandas provides a wide range of functions to manipulate and transform data in a DataFrame. Here are some common functions that can be used:\"\"\""
   ]
  },
  {
   "cell_type": "code",
   "execution_count": 11,
   "id": "4d373f89-7fc1-4fe3-839e-aa2323d0c0db",
   "metadata": {},
   "outputs": [
    {
     "data": {
      "text/plain": [
       "'head() and tail(): to display the first or last few rows of a DataFrame.\\ndescribe(): to calculate summary statistics for each column, such as count, mean, standard deviation, minimum, maximum, and quartiles.\\ninfo(): to display information about a DataFrame, such as the number of rows and columns, column names, data types, and memory usage.\\ngroupby(): to group rows of a DataFrame based on one or more columns and apply a function, such as sum, mean, or count, to each group.\\nsort_values(): to sort a DataFrame by one or more columns in ascending or descending order.'"
      ]
     },
     "execution_count": 11,
     "metadata": {},
     "output_type": "execute_result"
    }
   ],
   "source": [
    "\"\"\"head() and tail(): to display the first or last few rows of a DataFrame.\n",
    "describe(): to calculate summary statistics for each column, such as count, mean, standard deviation, minimum, maximum, and quartiles.\n",
    "info(): to display information about a DataFrame, such as the number of rows and columns, column names, data types, and memory usage.\n",
    "groupby(): to group rows of a DataFrame based on one or more columns and apply a function, such as sum, mean, or count, to each group.\n",
    "sort_values(): to sort a DataFrame by one or more columns in ascending or descending order.\"\"\""
   ]
  },
  {
   "cell_type": "code",
   "execution_count": 12,
   "id": "1ea1ae18-3d38-4c85-957d-e6c88c3246ca",
   "metadata": {},
   "outputs": [
    {
     "name": "stdout",
     "output_type": "stream",
     "text": [
      "Name\n",
      "Alice     87.5\n",
      "Bob       90.0\n",
      "Claire    88.0\n",
      "Name: Score, dtype: float64\n"
     ]
    }
   ],
   "source": [
    "#Example\n",
    "data = {'Name': ['Alice', 'Bob', 'Claire', 'Alice', 'Bob', 'Claire'],\n",
    "        'Age': [25, 30, 27, 26, 29, 28],\n",
    "        'Gender': ['Female', 'Male', 'Female', 'Female', 'Male', 'Female'],\n",
    "        'Score': [85, 92, 89, 90, 88, 87]}\n",
    "\n",
    "df = pd.DataFrame(data)\n",
    "\n",
    "# group the rows by the 'Name' column and calculate the mean value of the 'Score' column\n",
    "grouped = df.groupby('Name')['Score'].mean()\n",
    "\n",
    "print(grouped)"
   ]
  },
  {
   "cell_type": "markdown",
   "id": "fc5ed435-9480-4767-bec7-c022fa81acd0",
   "metadata": {},
   "source": [
    "Q6. Which of the following is mutable in nature Series, DataFrame, Panel?"
   ]
  },
  {
   "cell_type": "code",
   "execution_count": 13,
   "id": "57ab7a70-a2fe-4a19-8bbb-70351798b172",
   "metadata": {},
   "outputs": [
    {
     "data": {
      "text/plain": [
       "'Answer:-In pandas, both Series and DataFrame are mutable in nature. This means that their values can be changed or updated after they have been created. On the other hand, Panel is an immutable data structure in pandas, which means that its values cannot be changed once it has been created.'"
      ]
     },
     "execution_count": 13,
     "metadata": {},
     "output_type": "execute_result"
    }
   ],
   "source": [
    "\"\"\"Answer:-In pandas, both Series and DataFrame are mutable in nature. This means that their values can be changed or updated after they have been created. On the other hand, Panel is an immutable data structure in pandas, which means that its values cannot be changed once it has been created.\"\"\""
   ]
  },
  {
   "cell_type": "code",
   "execution_count": 14,
   "id": "6f875611-5366-493a-aa0c-d9b20a12f364",
   "metadata": {},
   "outputs": [
    {
     "name": "stdout",
     "output_type": "stream",
     "text": [
      "0    1\n",
      "1    4\n",
      "2    3\n",
      "dtype: int64\n"
     ]
    }
   ],
   "source": [
    "#example of how you can modify the values of a Series and DataFrame:\n",
    "# create a Series\n",
    "s = pd.Series([1, 2, 3])\n",
    "\n",
    "# change the value at index 1\n",
    "s[1] = 4\n",
    "\n",
    "print(s)"
   ]
  },
  {
   "cell_type": "code",
   "execution_count": 15,
   "id": "7c1016da-20a9-4074-ad23-70e1533a828b",
   "metadata": {},
   "outputs": [
    {
     "name": "stdout",
     "output_type": "stream",
     "text": [
      "   A   B  C\n",
      "0  1   4  7\n",
      "1  2  10  8\n",
      "2  3   6  9\n"
     ]
    }
   ],
   "source": [
    "# create a DataFrame\n",
    "df = pd.DataFrame({'A': [1, 2, 3], 'B': [4, 5, 6], 'C': [7, 8, 9]})\n",
    "\n",
    "# change the value at row 1 and column 'B'\n",
    "df.at[1, 'B'] = 10\n",
    "\n",
    "print(df)"
   ]
  },
  {
   "cell_type": "markdown",
   "id": "90f8ddf9-9f2d-4347-af74-54489bcc1df9",
   "metadata": {},
   "source": [
    "Q7. Create a DataFrame using multiple Series. Explain with an example."
   ]
  },
  {
   "cell_type": "code",
   "execution_count": 16,
   "id": "bc52c4f3-eb1f-4634-aa3d-f0bac46476a6",
   "metadata": {},
   "outputs": [
    {
     "data": {
      "text/plain": [
       "'Answer:-we can create a pandas DataFrame using multiple Series. Each Series will represent a column in the DataFrame, and they should have the same length.'"
      ]
     },
     "execution_count": 16,
     "metadata": {},
     "output_type": "execute_result"
    }
   ],
   "source": [
    "\"\"\"Answer:-we can create a pandas DataFrame using multiple Series. Each Series will represent a column in the DataFrame, and they should have the same length.\"\"\""
   ]
  },
  {
   "cell_type": "code",
   "execution_count": null,
   "id": "fc98cdda-00ec-450c-a2fe-4da7e5f6acde",
   "metadata": {},
   "outputs": [],
   "source": [
    "#example of how you can create a DataFrame using two Series:\n",
    "# create two Series\n",
    "s1 = pd.Series(['Alice', 'Bob', 'Claire'])\n",
    "s2 = pd.Series([25, 30, 27])\n",
    "\n",
    "# create a DataFrame with the two Series as columns\n",
    "df = pd.DataFrame({'Name': s1, 'Age': s2})\n",
    "\n",
    "print(df)\n",
    "Output:\n",
    "\n",
    "markdown\n",
    "Copy code\n",
    "     Name  Age\n",
    "0   Alice   25\n",
    "1     Bob   30\n",
    "2  Claire   27\n",
    "In this example, we first created two Series: 's1' with the names 'Alice', 'Bob', and 'Claire', and 's2' with the ages 25, 30, and 27. We then created a DataFrame with the two Series as columns, by passing a dictionary to the pd.DataFrame() function. The keys of the dictionary represent the column names, and the values represent the Series. The result is a DataFrame with two columns: 'Name' and 'Age'.\n"
   ]
  }
 ],
 "metadata": {
  "kernelspec": {
   "display_name": "Python 3 (ipykernel)",
   "language": "python",
   "name": "python3"
  },
  "language_info": {
   "codemirror_mode": {
    "name": "ipython",
    "version": 3
   },
   "file_extension": ".py",
   "mimetype": "text/x-python",
   "name": "python",
   "nbconvert_exporter": "python",
   "pygments_lexer": "ipython3",
   "version": "3.10.8"
  }
 },
 "nbformat": 4,
 "nbformat_minor": 5
}
